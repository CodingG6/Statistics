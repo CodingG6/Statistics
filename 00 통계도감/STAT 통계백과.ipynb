{
  "nbformat": 4,
  "nbformat_minor": 0,
  "metadata": {
    "colab": {
      "name": "STAT 통계백과.ipynb",
      "provenance": [],
      "collapsed_sections": [],
      "toc_visible": true
    },
    "kernelspec": {
      "name": "python3",
      "display_name": "Python 3"
    },
    "language_info": {
      "name": "python"
    }
  },
  "cells": [
    {
      "cell_type": "markdown",
      "metadata": {
        "id": "NAVOUukIMaLg"
      },
      "source": [
        "# 중요한 통계학 개념과 파이썬 통계 함수 백과사전\n",
        "\n",
        "머신러닝, 딥러닝의 알고리즘을 이해하는 데 꼭 필요한 통계학적 개념과, 그 개념을 구현하는 파이썬 함수를 목록으로 정리했습니다. 개념이나 용어가 헷갈리거나 기억이 안날 때 확인할 수 있는 길잡이로 유용하게 쓰고자 만들었습니다."
      ]
    },
    {
      "cell_type": "markdown",
      "metadata": {
        "id": "gWwVYdw1s79A"
      },
      "source": [
        "# 1. 확률"
      ]
    },
    {
      "cell_type": "markdown",
      "metadata": {
        "id": "DoM7ItOts-ns"
      },
      "source": [
        "### 팩토리얼!(Factorial!)\n",
        "\n",
        "차례곱!, 계승!"
      ]
    },
    {
      "cell_type": "code",
      "metadata": {
        "id": "SRNXQQx1tEQX"
      },
      "source": [
        "math.factorial(number)"
      ],
      "execution_count": null,
      "outputs": []
    },
    {
      "cell_type": "markdown",
      "metadata": {
        "id": "xwMP9UYOr9bd"
      },
      "source": [
        "### 조합의 수 (N choose K)\n",
        "\n",
        "집합에서 서로 다른 n개의 원소 중에서 순서에 상관없이 r개를 선택하는 것\n",
        "\n",
        "$$ {n \\choose k} = \\frac{n!}{k!(n - k)!} $$"
      ]
    },
    {
      "cell_type": "code",
      "metadata": {
        "id": "_wbgFc8jr-GP"
      },
      "source": [
        "def n_choose_k(n, k):\n",
        "    return math.factorial(n) / (math.factorial(k) * math.factorial(n-k)) "
      ],
      "execution_count": null,
      "outputs": []
    },
    {
      "cell_type": "markdown",
      "metadata": {
        "id": "HzZQRTy-3E4Y"
      },
      "source": [
        "## 확률 간의 관계"
      ]
    },
    {
      "cell_type": "markdown",
      "metadata": {
        "id": "I9xbBBKU16X4"
      },
      "source": [
        "### 결합 확률 분포\n",
        "$$P(x=x, y=y)$$"
      ]
    },
    {
      "cell_type": "markdown",
      "metadata": {
        "id": "qjyeSWry1-T5"
      },
      "source": [
        "### 주변 확률\n",
        "\n",
        "$$\\forall x \\in x_1, P(x=x) = \\sum_{y}P(x=x, y=y)$$"
      ]
    },
    {
      "cell_type": "markdown",
      "metadata": {
        "id": "GpborgUD2fc3"
      },
      "source": [
        "### 조건 확률\n",
        "\n",
        "$$P(y=y | x=x) = \\frac{P(y=y, x=x)}{P(x=x)}$$"
      ]
    },
    {
      "cell_type": "markdown",
      "metadata": {
        "id": "5a5s2Ilg22sR"
      },
      "source": [
        "### 확률의 연쇄법칙"
      ]
    },
    {
      "cell_type": "markdown",
      "metadata": {
        "id": "Xp9Rn33025jL"
      },
      "source": [
        "### 독립 확률 변수"
      ]
    },
    {
      "cell_type": "markdown",
      "metadata": {
        "id": "-BrjTpPW2-Q4"
      },
      "source": [
        "### 조건부 독립"
      ]
    },
    {
      "cell_type": "markdown",
      "metadata": {
        "id": "zyJZGrddtIfY"
      },
      "source": [
        "# 2. 통계"
      ]
    },
    {
      "cell_type": "markdown",
      "metadata": {
        "id": "4b_uiUjE3hya"
      },
      "source": [
        "## 기초 개념 1"
      ]
    },
    {
      "cell_type": "markdown",
      "metadata": {
        "id": "fAx3XrQY-VYY"
      },
      "source": [
        "### 평균(mean)\n",
        "\n",
        "$$ \\bar{x} = \\frac{\\sum_{i=1}^n x_i}{n} $$\n",
        "\n",
        "$$평균 \\bar{x} = \\frac{\\text{모든 }x_i\\text{의 합}}{\\text{표본 갯수}} $$"
      ]
    },
    {
      "cell_type": "markdown",
      "metadata": {
        "id": "gi-HWLnK1VxO"
      },
      "source": [
        "### 최빈값(mode)"
      ]
    },
    {
      "cell_type": "code",
      "metadata": {
        "id": "Z8i-52d81YqA"
      },
      "source": [
        "st.mode(number)"
      ],
      "execution_count": null,
      "outputs": []
    },
    {
      "cell_type": "markdown",
      "metadata": {
        "id": "UFQCKihr1ONx"
      },
      "source": [
        "### 분위수(quantile)"
      ]
    },
    {
      "cell_type": "code",
      "metadata": {
        "id": "vQ6rWtNx1P3T"
      },
      "source": [
        "np.quantile(x, 0.5)"
      ],
      "execution_count": null,
      "outputs": []
    },
    {
      "cell_type": "markdown",
      "metadata": {
        "id": "f2Nyl28c1eHz"
      },
      "source": [
        "### 백분위수(percentile)"
      ]
    },
    {
      "cell_type": "code",
      "metadata": {
        "id": "PyL9pRat1glU"
      },
      "source": [
        "np.percentile(x, percentile)"
      ],
      "execution_count": null,
      "outputs": []
    },
    {
      "cell_type": "markdown",
      "metadata": {
        "id": "wk9PBy7C1mBs"
      },
      "source": [
        "### 비대칭도(skewness)"
      ]
    },
    {
      "cell_type": "code",
      "metadata": {
        "id": "K2FZlZH-1njt"
      },
      "source": [
        "st.skewnorm.rvs(skewness=0, size=1000)"
      ],
      "execution_count": null,
      "outputs": []
    },
    {
      "cell_type": "markdown",
      "metadata": {
        "id": "Gizy_XIdtLf0"
      },
      "source": [
        "## 분포(distributions)"
      ]
    },
    {
      "cell_type": "markdown",
      "metadata": {
        "id": "cC66b8QnDkOr"
      },
      "source": [
        "### 특정 숫자의 위치를 찾아내기"
      ]
    },
    {
      "cell_type": "code",
      "metadata": {
        "id": "zanfjOcEDmUM"
      },
      "source": [
        "len(np.where(y > 42)) # 42가 리스트의 몇 번째인지 알려준다."
      ],
      "execution_count": null,
      "outputs": []
    },
    {
      "cell_type": "markdown",
      "metadata": {
        "id": "UIpXw9hP5m3N"
      },
      "source": [
        "### 무작위 표본 추출(random sampling)"
      ]
    },
    {
      "cell_type": "code",
      "metadata": {
        "id": "yJeXf5Qf5ohC"
      },
      "source": [
        "np.random.choice(x, size=10, replace=False)"
      ],
      "execution_count": null,
      "outputs": []
    },
    {
      "cell_type": "markdown",
      "metadata": {
        "id": "EJuwh0IU3ziI"
      },
      "source": [
        "### 균일 분포(uniform)\n",
        "\n",
        "1. 주사위 굴리기(PMF)\n",
        "2. 카드 뽑기(PMF)\n",
        "3. 방사능 입자 방출\n",
        "4. 아날로그-디지털 신호의 양자화 오차"
      ]
    },
    {
      "cell_type": "code",
      "metadata": {
        "id": "TgV7XnXL369w"
      },
      "source": [
        "np.random.uniform(size=size)"
      ],
      "execution_count": null,
      "outputs": []
    },
    {
      "cell_type": "markdown",
      "metadata": {
        "id": "AL71pmcVsVPB"
      },
      "source": [
        "### 이항 분포(binomial)"
      ]
    },
    {
      "cell_type": "code",
      "metadata": {
        "id": "uLBWPZQ1sXqs"
      },
      "source": [
        "np.random.binomial(events, probabiltiy, trials)"
      ],
      "execution_count": null,
      "outputs": []
    },
    {
      "cell_type": "code",
      "metadata": {
        "id": "qyGsNc6bsgZT"
      },
      "source": [
        "# np.unique의 return_counts 옵션을 참으로 설정해주면 이벤트 횟수를 반환한다 \n",
        "target_event_count, total_event_count = np.unique(target_count, return_counts=True)"
      ],
      "execution_count": null,
      "outputs": []
    },
    {
      "cell_type": "markdown",
      "metadata": {
        "id": "cKfny2I87G3Z"
      },
      "source": [
        "### 다항 분포(multinomial)"
      ]
    },
    {
      "cell_type": "code",
      "metadata": {
        "id": "lvuNwoqA7T-5"
      },
      "source": [
        "np.random.multinomial(n, [1/6.]*6)"
      ],
      "execution_count": null,
      "outputs": []
    },
    {
      "cell_type": "markdown",
      "metadata": {
        "id": "7FtJNNyM7Yuu"
      },
      "source": [
        "### 포아송 분포(Poisson)"
      ]
    },
    {
      "cell_type": "code",
      "metadata": {
        "id": "h9YV8wKv7dA9"
      },
      "source": [
        "np.random.poisson(lam, size)"
      ],
      "execution_count": null,
      "outputs": []
    },
    {
      "cell_type": "markdown",
      "metadata": {
        "id": "hYkB2yRf3105"
      },
      "source": [
        "### 정규 분포(normal)"
      ]
    },
    {
      "cell_type": "code",
      "metadata": {
        "id": "uEUt6GXs4ZC1"
      },
      "source": [
        "np.random.normal(size=10000)"
      ],
      "execution_count": null,
      "outputs": []
    },
    {
      "cell_type": "markdown",
      "metadata": {
        "id": "ZG-eXCMC65Z7"
      },
      "source": [
        "### 지수 분포(exponential)"
      ]
    },
    {
      "cell_type": "code",
      "metadata": {
        "id": "yRCnqNwl665F"
      },
      "source": [
        "np.random.exponential(scale=4, size=10000)"
      ],
      "execution_count": null,
      "outputs": []
    },
    {
      "cell_type": "markdown",
      "metadata": {
        "id": "qc_Hx8Qp6_XR"
      },
      "source": [
        "### 라플라스 분포(LaPlace)"
      ]
    },
    {
      "cell_type": "code",
      "metadata": {
        "id": "mxuQu2NY7A_w"
      },
      "source": [
        "np.random.laplace(size=10000)"
      ],
      "execution_count": null,
      "outputs": []
    },
    {
      "cell_type": "markdown",
      "metadata": {
        "id": "oKIdQ-nj6utG"
      },
      "source": [
        "### 다봉분포(multimodal)"
      ]
    },
    {
      "cell_type": "code",
      "metadata": {
        "id": "JcVTUq8X6wEV"
      },
      "source": [
        "np.concatenate((np.random.normal(size=5000), np.random.normal(loc=4.0, size=5000)))  # loc = 평균 위치"
      ],
      "execution_count": null,
      "outputs": []
    },
    {
      "cell_type": "markdown",
      "metadata": {
        "id": "CR52yYGq7rXx"
      },
      "source": [
        "### 혼합 분포(mixture)"
      ]
    },
    {
      "cell_type": "markdown",
      "metadata": {
        "id": "VkdEe_1KtQdx"
      },
      "source": [
        "### 확률 밀도 함수(Probability Density Function)\n",
        "\n",
        "$x$가 $a$와 $b$ 사이에 위치할 확률:\n",
        "\n",
        "$$\\int_{[a, b]}p(x)\\delta x = \\int^bp(x)\\delta x - \\int^ap(x)\\delta x$$\n",
        "\n",
        "- 0에서 $a$와 $b$까지의 구간을 각각 적분한 후 $b$ 구간 적분값에서 $a$ 구간 적분값을 빼준다. "
      ]
    },
    {
      "cell_type": "markdown",
      "metadata": {
        "id": "GTUAjtJF8X1X"
      },
      "source": [
        "## 정보 이론(Information Theory)"
      ]
    },
    {
      "cell_type": "markdown",
      "metadata": {
        "id": "CeAkcG_18bUM"
      },
      "source": [
        "### 셰논 엔트로피(Shannon Entropy)\n",
        "\n",
        "$$ H(x) = \\mathbb{E}_{\\text{x}\\sim P}[I(x)] \\\\ = -\\mathbb{E}_ {\\text{x}\\sim P}[\\text{log}P(x)] $$\n",
        "\n",
        "\n",
        "낮은 엔트로피:\n",
        "- 분포가 확정적이고 결과가 확실하다. \n",
        "\n",
        "높은 엔트로피:\n",
        "- 결과가 불확실하다. "
      ]
    },
    {
      "cell_type": "markdown",
      "metadata": {
        "id": "Juo6rBNt8r5Z"
      },
      "source": [
        "### 이분 확률 변수에서의 셰넌 엔트로피\n",
        "\n",
        "$$ (p-1)\\cdot \\text{log}(1-p)-p \\cdot \\text{log}p $$"
      ]
    },
    {
      "cell_type": "code",
      "metadata": {
        "id": "JfOxo4UH8c6h"
      },
      "source": [
        "import numpy as np\n",
        "\n",
        "def binary_entropy(p):\n",
        "    return (p-1) * np.log(1-p) - p * np.log(p)"
      ],
      "execution_count": null,
      "outputs": []
    },
    {
      "cell_type": "markdown",
      "metadata": {
        "id": "IUitIU2L9Aw0"
      },
      "source": [
        "### 미분(differential entropy)\n",
        "\n",
        "- 분포가 확률밀도함수(PDF)라면 셰넌 엔트로피의 항으로 쓰임\n",
        "- 하나의 분포를 계산할 때 쓰인다."
      ]
    },
    {
      "cell_type": "markdown",
      "metadata": {
        "id": "ChZFqjdY9dis"
      },
      "source": [
        "### 쿨백-라이블러 발산과 교차 엔트로피\n",
        "(Kullback-Leibler Divergence)"
      ]
    },
    {
      "cell_type": "markdown",
      "metadata": {
        "id": "nIVxNvx49gWr"
      },
      "source": [
        "#### 쿨백-라이블러 발산\n",
        "$$ D_\\text{KL}(P||Q) = \\mathbb{E}_{\\text{x} \\sim P}[\\text{log}P(x) - \\text{log}Q(x)] $$"
      ]
    },
    {
      "cell_type": "markdown",
      "metadata": {
        "id": "t64Qb_xd9jdz"
      },
      "source": [
        "#### 교차 엔트로피\n",
        "\n",
        "$$ C = -(y \\cdot \\text{log}(\\hat{y}) + (1-y) \\cdot \\text{log}(1-\\hat{y})) $$\n",
        "\n",
        "$$ C = -(truth \\cdot \\text{log}(pred) + (1-truth) \\cdot \\text{log}(1-pred)) $$\n",
        "\n",
        "- 정닶 $y$와 예측값 $\\hat y$가 1을 두고 교차하는 양상이다."
      ]
    },
    {
      "cell_type": "code",
      "metadata": {
        "id": "iSsH2Pwg97G6"
      },
      "source": [
        "def cross_entropy(y, y_hat):    \n",
        "    return -1 * (y * np.log(y_hat) + (1 - y) * np.log(1 - y_hat))"
      ],
      "execution_count": null,
      "outputs": []
    },
    {
      "cell_type": "markdown",
      "metadata": {
        "id": "37f4zZsX8T-d"
      },
      "source": [
        "## 기초 개념2"
      ]
    },
    {
      "cell_type": "markdown",
      "metadata": {
        "id": "VBf-IX7ct1Hg"
      },
      "source": [
        "### 기대값(Expectation)\n",
        "\n",
        "$x$가 이산이면:$$E = \\sum_x x\\cdot P(x)$$\n",
        "\n",
        "$x$가 연속이면:$$E =\\int x \\cdot p(x)\\cdot \\delta x$$\n",
        "- $x$ 값 $\\times$ $x$의 확률 $\\times$ $x$의 미분값"
      ]
    },
    {
      "cell_type": "markdown",
      "metadata": {
        "id": "9UpISC_Wu-Gg"
      },
      "source": [
        "### 분산(variance)\n",
        "\n",
        "$$\\sigma ^2 = f\\frac{\\sum_{i=1}^{n}(x_i - \\bar{x})^2}{n}$$\n",
        "\n",
        "$$\\text{차이의 제곱} = \\frac{\\text{(데이터값 - 평균값)}\\text{의 모든 합}^2}{\\text{표본 크기}}$$\n",
        "\n",
        "- 데이터 값과 평균값의 차를 제곲한 값을 모두 더한다. \n",
        "- 표본의 크기로 그 합을 나누어 준다."
      ]
    },
    {
      "cell_type": "code",
      "metadata": {
        "id": "hSHfBd2H0s3_"
      },
      "source": [
        "np.var(x)\n",
        "x.var(ddof=1)"
      ],
      "execution_count": null,
      "outputs": []
    },
    {
      "cell_type": "markdown",
      "metadata": {
        "id": "W6O4aj9nvrlG"
      },
      "source": [
        "### 표준 편차(standard deviation)\n",
        "\n",
        "$$\\sigma = \\sqrt{\\sigma^2} = \\sqrt{f\\frac{\\sum_{i=1}^{n}(x_i - \\bar{x})^2}{n}}$$\n",
        "\n",
        "$$\\text{차의 제곱의 제곱근} = \\sqrt{\\sigma^2}$$\n",
        "\n",
        "$$ = \\sqrt{\\frac{\\text{(데이터 값 - 평균값)}^2\\text{의 합}}{\\text{표본 크기}}}$$\n"
      ]
    },
    {
      "cell_type": "markdown",
      "metadata": {
        "id": "IcLHlN2Pwr5U"
      },
      "source": [
        "### 표준 오차(standard error)\n",
        "\n",
        "- 표준 편차에서 파생된 개념\n",
        "- 표본 $\\bar x$의 편차\n",
        "\n",
        "$$\\sigma_{\\bar x} = \\frac{\\sigma}{\\sqrt n}$$\n",
        "\n",
        "$$\\sigma_{\\bar x} = \\frac{\\text{편차}}{\\sqrt {\\text{표본 크기}}}$$"
      ]
    },
    {
      "cell_type": "code",
      "metadata": {
        "id": "OvNkkHOhC8Bu"
      },
      "source": [
        "st.sem(x)"
      ],
      "execution_count": null,
      "outputs": []
    },
    {
      "cell_type": "markdown",
      "metadata": {
        "id": "CAzD9bDa-o1i"
      },
      "source": [
        "### z 점수(z-score)\n",
        "\n",
        "$$ z = \\frac{x_i-\\mu}{\\sigma} $$\n",
        "\n",
        "$$ z = \\frac{x_i-\\text{모평균}}{\\text{표준 편차}} $$\n",
        "\n",
        "- 일종의 표준편차적 단위\n",
        "- (데이터 값 - 모평균)을 편차로 나눠준 값"
      ]
    },
    {
      "cell_type": "markdown",
      "metadata": {
        "id": "8UTi9a1H_Dq5"
      },
      "source": [
        "### p 값(p-values)\n",
        "\n",
        "- `st.norm.ppf(.025)`\n",
        "  - p 값을 넣어 z 점수를 얻는다.\n",
        "- `st.norm.cdf(-2.5)`\n",
        "  - z 점수를 넣어 p 값을 얻는다."
      ]
    },
    {
      "cell_type": "markdown",
      "metadata": {
        "id": "uNTBbP7BDA4P"
      },
      "source": [
        "#### 누적 분포 함수(CDF - Cumulative Distribution Function)"
      ]
    },
    {
      "cell_type": "code",
      "metadata": {
        "id": "L-ca6UP__bXW"
      },
      "source": [
        "# import scipy.stats as st\n",
        "# z 점수를 넣으면 백분위수를 반환한다.\n",
        "st.norm.cdf(z-score)"
      ],
      "execution_count": null,
      "outputs": []
    },
    {
      "cell_type": "code",
      "metadata": {
        "id": "xCClu3Hd_kaU"
      },
      "source": [
        "st.norm.cdf(-2.5)    # 최하위 2.5 백분위. 2.5%까지 구간.\n",
        "1-st.norm.cdf(2.5)   # 최상위 2.5 백분위. 97.5% 이상의 구간.\n",
        "                     # 백분위 단위의 0 ~ 1 사이의 p 값을 반환"
      ],
      "execution_count": null,
      "outputs": []
    },
    {
      "cell_type": "markdown",
      "metadata": {
        "id": "Ulv1ed7IBSJ1"
      },
      "source": [
        "#### 백분위 함수(PPD - Percent Point Function)\n",
        "\n",
        "- `norm.ppf()` 힘수는 백분율 변수를 받아 해당 백분율 수치가 일어나는 지점의 **표준 편차 계수**를 반환한다. \n",
        "- 밀도 그래프에서 단측 검정과 같다.\n",
        "\n",
        "[스텍오버플로우](https://stackoverflow.com/questions/60699836/how-to-use-norm-ppf) 원문 참고."
      ]
    },
    {
      "cell_type": "code",
      "metadata": {
        "id": "oVai2-hOCXa8"
      },
      "source": [
        "st.norm.ppf(.025) # z 점수 반환\n",
        "st.norm.ppf(.975)"
      ],
      "execution_count": null,
      "outputs": []
    },
    {
      "cell_type": "code",
      "metadata": {
        "id": "M5SkfqcqBy7W"
      },
      "source": [
        "norm.ppf(0.95, loc=0, scale=1)\n",
        "\n",
        "# 표준 정규 분포에 대해(평균=0, 표준편차=1)\n",
        "# 단측 검정의 95% 신뢰구간을 반환한다."
      ],
      "execution_count": null,
      "outputs": []
    },
    {
      "cell_type": "markdown",
      "metadata": {
        "id": "CVqtthiRxiwj"
      },
      "source": [
        "### 공분산(covariance)\n",
        "- $x$와 $y$, 변수 2개의 상관서어 분석.\n",
        "- 같은 길이의 두 벡터 $x$와 $y$이 대해서,\n",
        "- $x$의 각 데이터가 $y$의 상응하는 데이터와 짝을 이룬다.\n",
        "- 공분산은 이 두 변수가 얼마나 서로 상관되어 있는가를 측정한다.\n",
        "\n",
        "<br/>\n",
        "\n",
        "$$cov(x, y) = \\frac{\\sum_{i=1}^{n}(x_i - \\bar{x})(y_i - \\bar{y})}{n}$$\n",
        "\n",
        "$$cov(x, y) = \\frac{(x\\text{의 } i \\text{번째 데이터} \\text{} - x\\text{의 평균})\\times (y\\text{의 } i \\text{번째 데이터} \\text{}- y\\text{의 평균})\\text{의 모든 합}}{표본 크기}$$\n",
        "\n",
        "<br/>\n",
        "\n",
        "- $(x\\text{의 분산} \\times y\\text{의 분산})$을 표본 크기($n$)로 나누어 준다. "
      ]
    },
    {
      "cell_type": "code",
      "metadata": {
        "id": "7cPJEijty4N0"
      },
      "source": [
        "np.cov(x, y, ddof=0)"
      ],
      "execution_count": null,
      "outputs": []
    },
    {
      "cell_type": "markdown",
      "metadata": {
        "id": "5HjWbQmfy8YA"
      },
      "source": [
        "### Correlation\n",
        "$$\\rho _{x, y}=\\frac{cov(x,y)}{\\sigma_x\\sigma_y}$$\n",
        "\n",
        "$$\\rho _{x, y}=\\frac{x\\text{와 } y\\text{의 공분산}}{x \\text{의 표준 오차}\\times y\\text{의 표준 오차}}$$\n",
        "\n",
        "<br/>\n",
        "\n",
        "- \"공분산과 상관성은 선형 관계에만 해당된다. 두 개의 변수는 비선형적으로 상관되어 있을 수 있으며, 이 경우 공분산과 상관성은 0이 될 수 있다.\""
      ]
    },
    {
      "cell_type": "markdown",
      "metadata": {
        "id": "WjCkvSr_0e1D"
      },
      "source": [
        "### 피어슨 상관계수(Pearson correlation)\n",
        "\n"
      ]
    },
    {
      "cell_type": "code",
      "metadata": {
        "id": "1EoCRwDR0hqv"
      },
      "source": [
        "st.pearsonr(x, y)"
      ],
      "execution_count": null,
      "outputs": []
    },
    {
      "cell_type": "markdown",
      "metadata": {
        "id": "quaLDkNIEeWt"
      },
      "source": [
        "### 평균의 비교 - t 검정(t-tests)"
      ]
    },
    {
      "cell_type": "markdown",
      "metadata": {
        "id": "HJlIGirEEixN"
      },
      "source": [
        "### t 검정(t-tests)"
      ]
    },
    {
      "cell_type": "markdown",
      "metadata": {
        "id": "z-h75lLQEmUd"
      },
      "source": [
        "#### 스튜던트의 1표본 t 검정\n",
        "(Student's One Sample t-test)\n",
        "\n",
        "1개 표본에 대한 스튜던트 t검정은 일종의 z 점수의 변형으로 볼 수 있다 .\n",
        "\n",
        "<br/>\n",
        "\n",
        "$$ t = \\frac{\\bar{x} - \\mu_0}{s_{\\bar{x}}} $$\n",
        "\n",
        "$$ t = \\frac{\\text{표본의 평균} - \\text{기준 평균}}{\\text{표본의 표준 오차}} $$\n",
        "\n",
        "<br/>\n",
        "\n",
        "- $\\bar{x}$: 표본 평균\n",
        "- $\\mu_0$: 비교의 기준이 되는 평균(모평균 혹은 귀무가설 평균)\n",
        "- $s_{\\bar{x}}$: 표본의 표준 오차\n",
        "\n",
        "<br/>\n",
        "\n",
        "아래의 z 점수 계산공식과 비교해 보자. \n",
        "$$ z = \\frac{x_i-\\mu}{\\sigma} $$"
      ]
    },
    {
      "cell_type": "code",
      "metadata": {
        "id": "s0Frgy7eJOWh"
      },
      "source": [
        "st.ttest_1samp(x, reference_mean)"
      ],
      "execution_count": null,
      "outputs": []
    },
    {
      "cell_type": "code",
      "metadata": {
        "id": "yIvPhvZNKvYq"
      },
      "source": [
        "# t-점수와 p-값을 반환한다.\n",
        "Ttest_1sampResult(statistic=1.1338934190276817, pvalue=0.3392540508564543)"
      ],
      "execution_count": null,
      "outputs": []
    },
    {
      "cell_type": "markdown",
      "metadata": {
        "id": "j1dpmbSgGFYr"
      },
      "source": [
        "t-score compares the sample mean against a reference mean, while z-score estimates the spread of a data point against the population mean."
      ]
    },
    {
      "cell_type": "markdown",
      "metadata": {
        "id": "9s8oYzMOGWDr"
      },
      "source": [
        "#### 웰치의 두 독립 표본 t검정\n",
        "(Welch's Independent Two-Sample t-test)\n",
        "2 개의 각기 다른 표본을 서로 비교한다 .\n",
        "\n",
        "$$ t = \\frac{\\bar{x} - \\bar{y}}{\\sqrt{\\frac{s^2_x}{n_x} + \\frac{s^2_y}{n_y}}} $$\n",
        "\n",
        "\n",
        "Where:\n",
        "\n",
        "- $\\bar{x}$, $\\bar{y}$: 표본 평균\n",
        "- $s^2_x$, $s^2_y$: 표본 편차\n",
        "- $n_x$, $n_y$: 표본 크기"
      ]
    },
    {
      "cell_type": "code",
      "metadata": {
        "id": "04XTpnL3HgmT"
      },
      "source": [
        "st.ttest_ind(sample1, sample2, equal_var=False)"
      ],
      "execution_count": null,
      "outputs": []
    },
    {
      "cell_type": "code",
      "metadata": {
        "id": "c9eYE-fIKend"
      },
      "source": [
        "# t-점수와 p-값을 반환한다.\n",
        "Ttest_indResult(statistic=4.5588666963515765, pvalue=1.1099750778082192e-05)"
      ],
      "execution_count": null,
      "outputs": []
    },
    {
      "cell_type": "markdown",
      "metadata": {
        "id": "9Wnp9HL4HxDK"
      },
      "source": [
        "#### 스튜던트의 두 독립표본 검정\n",
        "(Student's Paired-Sample t-test)\n",
        "\n",
        "$$ t = \\frac{\\bar{d} - \\mu_0}{s_\\bar{d}} $$\n",
        "\n",
        "$$ t = \\frac{x\\text{와 }y\\text{ 쌍의 차이의 벡터(보통 0이다)}}{\\text{차들의 표준 오차}} $$\n",
        "\n",
        "<br/>\n",
        "\n",
        "- $d$: 표본 $x$와 $y$의 차이의 벡터\n",
        "- $\\bar{d}$: 차이의 평균\n",
        "- $\\mu_0$: 값이 보통 0이다. $x$와 $y$ 사이에 차이가 없다는 귀무 가설이기 때문.\n",
        "- $s_\\bar{d}$: 차이값의 표준 오차\n",
        "\n",
        "(단일 표본 t검정식과 얼마나 비슷한지 비교해 볼 것 ㅇㅅㅇ)...!)"
      ]
    },
    {
      "cell_type": "code",
      "metadata": {
        "id": "fuOxkglgJuTl"
      },
      "source": [
        "st.ttest_rel(sample1, sample2)"
      ],
      "execution_count": null,
      "outputs": []
    },
    {
      "cell_type": "code",
      "metadata": {
        "id": "baR8K5G0J4m8"
      },
      "source": [
        "# t-점수와 p-값을 반환한다.\n",
        "Ttest_relResult(statistic=3.3541019662496847, pvalue=0.02846020325433834) "
      ],
      "execution_count": null,
      "outputs": []
    },
    {
      "cell_type": "markdown",
      "metadata": {
        "id": "KrYoa5rXIhnB"
      },
      "source": [
        "#### 머선러닝ㅇㅅㅇ)...에서 t검정의 쓰임\n",
        "\n",
        "1) **단일 표본 t 검정**\n",
        "z 점수를 이용한 퍼짐의 정도(표준 편차) 측정\n",
        "\n",
        "- 머신러닝 모델을 개발해 특정 벤치마크와 비교할 때 쓸 수 있다. \n",
        "- 모델을 여러번 돌린 후, 모델이 산출한 표본을 가지고 모델 정확도를 측정할 수 있다. \n",
        "- 독립 표본 t검정을 이용해 표본의 정확도를 벤치마크와 비교하고, 모델의 아웃풋에 대한 통계적 유효성을 측정.\n",
        "\n",
        "2) **독립 t 검정**\n",
        "두 개의 서로 다른 데이터셋의 평균을 비교\n",
        "\n",
        "- 모델에 예상치 못한 편향이 있는지 알 수 있다.\n",
        "- 독립적 표본을 이용해 편향 측정 가능. \n",
        "- 각기 다른 인구집단의 독립적인 표본을 층화하여, \n",
        "- 두 집단에 대한 모델의 산출값 세트를 서로 비교한다. \n",
        "- 두 집단에 대한 산출값 세트의 차이가 통계적으로 유의미한가? \n",
        "\n",
        "3) **두 독립표본 t 검정**\n",
        "- 브라우저에서 구동하는 새로운 텐서플로우 모델을 개발했다. 새로운 모델이 구 모델보다 유의미하게 빠를까?\n",
        "\n",
        "- 여러가지 조건을 설정하고 두 개의 독립표본을 준비한다 .\n",
        "  - 새로운 개발 모델과 구모델을 여러 차례 돌려본다.\n",
        "  - 이 신모델-구모델 쌍을 여러가지 조건에서 가동한다: 사파리, 파이어폭스, 크롬, 스마트폰, 타블렛, 데스크탑 등 다른 환경에서 두 모델을 모두 돌린다. \n",
        "  - 구모델과 신모델을 각각 아이폰에서 사파리로 돌리기 등 짝을 지은 조건에 대해 모델을 돌려본다."
      ]
    },
    {
      "cell_type": "markdown",
      "metadata": {
        "id": "HEJFmvnvK8QS"
      },
      "source": [
        "## 신뢰구간(Confidence Interval)\n",
        "\n",
        "$$C.I. =\\bar x \\pm z\\frac{s}{\\sqrt n}$$\n",
        "\n",
        "- $\\bar{x}$: 표본 평균\n",
        "- $s$: 표본의 표준 오차\n",
        "- $n$: 표본 크기\n",
        "- $z$: z 점수 값\n",
        "  - 자주 쓰는 $z$ 점수값:\n",
        "    - 95% 신뢰구간: $z \\pm 1.960$; \n",
        "    - 90% 신뢰구간: $z \\pm 1.645$ \n",
        "    - 99% 신뢰구간: $z \\pm 2.576$"
      ]
    },
    {
      "cell_type": "markdown",
      "metadata": {
        "id": "mF919WGuMGTx"
      },
      "source": [
        "## 아노바 검정(ANOVA test)\n",
        "\n",
        "두 개 이상의 표본을 한 번의 통계 분석으로 비교할 수 있다.\n",
        "\n",
        "아노바 검정은 은 다음의 3가지를 가정한다. 표본은 반드시: \n",
        "\n",
        "- 서로 독립적이다.\n",
        "- 정규 분포를 띤다.\n",
        "- 동분산성(同分散性): 모표준편차가 같다. (분산의 성격이 동일하다)"
      ]
    },
    {
      "cell_type": "code",
      "metadata": {
        "id": "Cb_63bglMH4k"
      },
      "source": [
        "st.f_oneway(sample1, sample2, sample3)"
      ],
      "execution_count": null,
      "outputs": []
    },
    {
      "cell_type": "code",
      "metadata": {
        "id": "1zPtFKkZMLQc"
      },
      "source": [
        "# t-점수와 p-값을 반환한다.\n",
        "F_onewayResult(statistic=0.22627752438542714, pvalue=0.7980777848719299)"
      ],
      "execution_count": null,
      "outputs": []
    },
    {
      "cell_type": "markdown",
      "metadata": {
        "id": "0xVdWzwnsuVW"
      },
      "source": [
        "# 2. 그래프 그리기"
      ]
    },
    {
      "cell_type": "markdown",
      "metadata": {
        "id": "InocEeVMswKI"
      },
      "source": [
        "## 바 그래프"
      ]
    },
    {
      "cell_type": "code",
      "metadata": {
        "id": "GTA6kIkCsvt0"
      },
      "source": [
        "plt.bar(x_event, event_prob, color='mediumpurple')"
      ],
      "execution_count": null,
      "outputs": []
    },
    {
      "cell_type": "markdown",
      "metadata": {
        "id": "jdb8uqjmumEo"
      },
      "source": [
        "## 산점도\n",
        "\n",
        "- Matplotlib\n",
        "- Seaborn"
      ]
    },
    {
      "cell_type": "code",
      "metadata": {
        "id": "NRMtW7gs02ME"
      },
      "source": [
        "plt.scatter(x, y, c=c)"
      ],
      "execution_count": null,
      "outputs": []
    },
    {
      "cell_type": "code",
      "metadata": {
        "id": "ZJWlG0r-yv25"
      },
      "source": [
        "sb.scatterplot(x=x, y=y)"
      ],
      "execution_count": null,
      "outputs": []
    },
    {
      "cell_type": "markdown",
      "metadata": {
        "id": "XNBsbRqO1Cpn"
      },
      "source": [
        "## 상자 수염 그림"
      ]
    },
    {
      "cell_type": "code",
      "metadata": {
        "id": "WdVA-h8l1D-l"
      },
      "source": [
        "sb.boxplot(x=, y=, hue=colour, data=dataset)"
      ],
      "execution_count": null,
      "outputs": []
    },
    {
      "cell_type": "markdown",
      "metadata": {
        "id": "T49qs1cA4lbH"
      },
      "source": [
        "## Displot"
      ]
    },
    {
      "cell_type": "code",
      "metadata": {
        "id": "Qo5Kc_4T4m6x"
      },
      "source": [
        "sb.displot(x, kde=True)"
      ],
      "execution_count": null,
      "outputs": []
    },
    {
      "cell_type": "markdown",
      "metadata": {
        "id": "ToNI0tWT4BmD"
      },
      "source": [
        "## Distplot"
      ]
    },
    {
      "cell_type": "code",
      "metadata": {
        "id": "2sR0MTaB4DZk"
      },
      "source": [
        "sb.distplot(x)  # y unit = 밀도"
      ],
      "execution_count": null,
      "outputs": []
    },
    {
      "cell_type": "markdown",
      "metadata": {
        "id": "_Omivvfc4JX4"
      },
      "source": [
        "## Histplot"
      ]
    },
    {
      "cell_type": "code",
      "metadata": {
        "id": "5K3Iw2jo4KsE"
      },
      "source": [
        "sb.histplot(x)  # y unit = 횟수"
      ],
      "execution_count": null,
      "outputs": []
    },
    {
      "cell_type": "markdown",
      "metadata": {
        "id": "JGx5ePk0LduV"
      },
      "source": [
        "### 기타 그래프 부가 기능"
      ]
    },
    {
      "cell_type": "markdown",
      "metadata": {
        "id": "9knonzi5Rg9I"
      },
      "source": [
        "##### plt.plot(선을 그림)\n",
        "\n",
        "- 파라미터: `([x 점 리스트], [y 점 리스트], color='orange')`"
      ]
    },
    {
      "cell_type": "code",
      "metadata": {
        "id": "KO9AKo3sRlx0"
      },
      "source": [
        "plt.plot(xline, yline, color='orange')"
      ],
      "execution_count": null,
      "outputs": []
    },
    {
      "cell_type": "markdown",
      "metadata": {
        "id": "qjd8uGo1RPwb"
      },
      "source": [
        "#####  sb.set_style(스타일 설정)\n",
        "- 그래프의 스타일을 설정해줌. \n",
        "- 흰색, 어두운 색, 흰 격자, 어두운 격자, 틱 등 5가지 중 선택 가능"
      ]
    },
    {
      "cell_type": "code",
      "metadata": {
        "id": "na2QgxbQRSlG"
      },
      "source": [
        "sb.set_style('darkgrid')     # white, dark, whitegrid, darkgrid, ticks"
      ],
      "execution_count": null,
      "outputs": []
    },
    {
      "cell_type": "markdown",
      "metadata": {
        "id": "WhV6-PubLqvT"
      },
      "source": [
        "##### plt.errorbar()\n"
      ]
    },
    {
      "cell_type": "code",
      "metadata": {
        "id": "BG9D3glRLrLg"
      },
      "source": [
        "ax.errorbar(['x label'], [mean], [CI error], fmt='o', color='green', label='')"
      ],
      "execution_count": null,
      "outputs": []
    },
    {
      "cell_type": "markdown",
      "metadata": {
        "id": "j-7PzucSLhoR"
      },
      "source": [
        "##### plt.grid(격자 그려주기)\n",
        "그래프에 격자를 그려준다.\n"
      ]
    },
    {
      "cell_type": "code",
      "metadata": {
        "id": "Dkwi_rMfLl7y"
      },
      "source": [
        "plt.grid(axis='y')"
      ],
      "execution_count": null,
      "outputs": []
    }
  ]
}
