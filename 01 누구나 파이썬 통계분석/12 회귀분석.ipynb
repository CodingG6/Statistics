
{
  "nbformat": 4,
  "nbformat_minor": 0,
  "metadata": {
    "colab": {
      "name": "12 회귀분석.ipynb",
      "provenance": [],
      "collapsed_sections": []
    },
    "kernelspec": {
      "name": "python3",
      "display_name": "Python 3"
    },
    "language_info": {
      "name": "python"
    }
  },
  "cells": [
    {
      "cell_type": "code",
      "metadata": {
        "colab": {
          "base_uri": "https://localhost:8080/"
        },
        "id": "5YzSz_dxXSV6",
        "outputId": "5dbb87b3-5d93-4a1a-bf4e-b1b1f162ebc8"
      },
      "source": [
        "!sudo apt-get install -y fonts-nanum\n",
        "!sudo fc-cache -fv\n",
        "!rm ~/.cache/matplotlib -rf"
      ],
      "execution_count": 9,
      "outputs": [
        {
          "output_type": "stream",
          "name": "stdout",
          "text": [
            "Reading package lists... Done\n",
            "Building dependency tree       \n",
            "Reading state information... Done\n",
            "fonts-nanum is already the newest version (20170925-1).\n",
            "0 upgraded, 0 newly installed, 0 to remove and 37 not upgraded.\n",
            "/usr/share/fonts: caching, new cache contents: 0 fonts, 1 dirs\n",
            "/usr/share/fonts/truetype: caching, new cache contents: 0 fonts, 3 dirs\n",
            "/usr/share/fonts/truetype/humor-sans: caching, new cache contents: 1 fonts, 0 dirs\n",
            "/usr/share/fonts/truetype/liberation: caching, new cache contents: 16 fonts, 0 dirs\n",
            "/usr/share/fonts/truetype/nanum: caching, new cache contents: 10 fonts, 0 dirs\n",
            "/usr/local/share/fonts: caching, new cache contents: 0 fonts, 0 dirs\n",
            "/root/.local/share/fonts: skipping, no such directory\n",
            "/root/.fonts: skipping, no such directory\n",
            "/var/cache/fontconfig: cleaning cache directory\n",
            "/root/.cache/fontconfig: not cleaning non-existent cache directory\n",
            "/root/.fontconfig: not cleaning non-existent cache directory\n",
            "fc-cache: succeeded\n"
          ]
        }
      ]
    },
    {
      "cell_type": "code",
      "metadata": {
        "id": "KZnu970nOGqb"
      },
      "source": [
        "import numpy as np\n",
        "import pandas as pd\n",
        "from scipy import stats\n",
        "import statsmodels.formula.api as smf\n",
        "\n",
        "import matplotlib.pyplot as plt\n",
        "plt.rc('font', family='NanumBarunGothic') \n",
        "\n",
        "%precision 3 \n",
        "%matplotlib inline\n",
        "import warnings\n",
        "warnings.filterwarnings(\"ignore\")"
      ],
      "execution_count": 11,
      "outputs": []
    },
    {
      "cell_type": "markdown",
      "metadata": {
        "id": "SAUPDvUdPpcy"
      },
      "source": [
        "# 12.1 단순회귀모형\n",
        "\n",
        "회귀분석: 인과관계가 의심되는의 변수를 사용해 어느 변수로부터 다른 변수의 값을 예측하는 기법.\n",
        "- 설명변수(독립변수): 원인\n",
        "- 반응변수(종속변수): 결과\n",
        "\n",
        "단순회귀모형: 설명변수와 반응변수가 각각 1개로 가장 단순한 모형.\n",
        "- x: 쪽지시험 평균점수\n",
        "- n: 설명변수의 수\n",
        "- y: 기말고사 점수\n"
      ]
    },
    {
      "cell_type": "code",
      "metadata": {
        "colab": {
          "base_uri": "https://localhost:8080/",
          "height": 205
        },
        "id": "6GPORI0sOYe4",
        "outputId": "1487386f-e1e3-4262-d324-56fb3f0e6d2e"
      },
      "source": [
        "path = \"/content/12_exam_scores.csv\"\n",
        "\n",
        "df = pd.read_csv(path)\n",
        "df = df.rename(columns={'final_test': \"final_exam\", \n",
        "                        \"sleep_time\":\"sleeping hours\", \n",
        "                        \"school_method\": \"transport\"})\n",
        "df.head()"
      ],
      "execution_count": 4,
      "outputs": [
        {
          "output_type": "execute_result",
          "data": {
            "text/html": [
              "<div>\n",
              "<style scoped>\n",
              "    .dataframe tbody tr th:only-of-type {\n",
              "        vertical-align: middle;\n",
              "    }\n",
              "\n",
              "    .dataframe tbody tr th {\n",
              "        vertical-align: top;\n",
              "    }\n",
              "\n",
              "    .dataframe thead th {\n",
              "        text-align: right;\n",
              "    }\n",
              "</style>\n",
              "<table border=\"1\" class=\"dataframe\">\n",
              "  <thead>\n",
              "    <tr style=\"text-align: right;\">\n",
              "      <th></th>\n",
              "      <th>quiz</th>\n",
              "      <th>final_exam</th>\n",
              "      <th>sleeping hours</th>\n",
              "      <th>transport</th>\n",
              "    </tr>\n",
              "  </thead>\n",
              "  <tbody>\n",
              "    <tr>\n",
              "      <th>0</th>\n",
              "      <td>4.2</td>\n",
              "      <td>67</td>\n",
              "      <td>7.2</td>\n",
              "      <td>bus</td>\n",
              "    </tr>\n",
              "    <tr>\n",
              "      <th>1</th>\n",
              "      <td>7.2</td>\n",
              "      <td>71</td>\n",
              "      <td>7.9</td>\n",
              "      <td>bicycle</td>\n",
              "    </tr>\n",
              "    <tr>\n",
              "      <th>2</th>\n",
              "      <td>0.0</td>\n",
              "      <td>19</td>\n",
              "      <td>5.3</td>\n",
              "      <td>bus</td>\n",
              "    </tr>\n",
              "    <tr>\n",
              "      <th>3</th>\n",
              "      <td>3.0</td>\n",
              "      <td>35</td>\n",
              "      <td>6.8</td>\n",
              "      <td>walk</td>\n",
              "    </tr>\n",
              "    <tr>\n",
              "      <th>4</th>\n",
              "      <td>1.5</td>\n",
              "      <td>35</td>\n",
              "      <td>7.5</td>\n",
              "      <td>walk</td>\n",
              "    </tr>\n",
              "  </tbody>\n",
              "</table>\n",
              "</div>"
            ],
            "text/plain": [
              "   quiz  final_exam  sleeping hours transport\n",
              "0   4.2          67             7.2       bus\n",
              "1   7.2          71             7.9   bicycle\n",
              "2   0.0          19             5.3       bus\n",
              "3   3.0          35             6.8      walk\n",
              "4   1.5          35             7.5      walk"
            ]
          },
          "metadata": {},
          "execution_count": 4
        }
      ]
    },
    {
      "cell_type": "code",
      "metadata": {
        "id": "iepuHo6pQu05"
      },
      "source": [
        "x = np.array(df['quiz'])        # 독립변수\n",
        "y = np.array(df['final_exam'])  # 종속변수\n",
        "n = 1"
      ],
      "execution_count": 5,
      "outputs": []
    },
    {
      "cell_type": "markdown",
      "metadata": {
        "id": "RiEaiMdVSaXp"
      },
      "source": [
        "## 산점도와 회귀직선 그리기\n",
        "- ```poly_fit```\n",
        "  - y 데이터에 대한 최적의 fitting(최소제곱)인 n차 다항식 p(x)의 계수를 반환\n",
        "  - 절편과 계수를 찾아줌\n",
        "- ```poly1d(poly_fit)```\n",
        "  - 찾은 절편과 계수로 방정식을 만들어줌\n",
        "\n",
        "\n",
        "https://m.blog.naver.com/dudnr456/222010163524\n"
      ]
    },
    {
      "cell_type": "code",
      "metadata": {
        "id": "T7LLxdJoSN1U"
      },
      "source": [
        "poly_fit = np.polyfit(x, y, 1)  \n",
        "poly_1d = np.poly1d(poly_fit)    \n",
        "xs = np.linspace(x.min(), x.max())\n",
        "ys = poly_1d(xs)"
      ],
      "execution_count": 6,
      "outputs": []
    },
    {
      "cell_type": "code",
      "metadata": {
        "colab": {
          "base_uri": "https://localhost:8080/"
        },
        "id": "F8p1yvHNWQWN",
        "outputId": "bc55cf8d-e123-4a91-d6b9-d130f859514c"
      },
      "source": [
        "print(poly_fit, poly_1d)\n",
        "print(xs)\n",
        "print(ys)"
      ],
      "execution_count": 7,
      "outputs": [
        {
          "output_type": "stream",
          "name": "stdout",
          "text": [
            "[ 6.554 23.699]  \n",
            "6.554 x + 23.7\n",
            "[0.    0.18  0.359 0.539 0.718 0.898 1.078 1.257 1.437 1.616 1.796 1.976\n",
            " 2.155 2.335 2.514 2.694 2.873 3.053 3.233 3.412 3.592 3.771 3.951 4.131\n",
            " 4.31  4.49  4.669 4.849 5.029 5.208 5.388 5.567 5.747 5.927 6.106 6.286\n",
            " 6.465 6.645 6.824 7.004 7.184 7.363 7.543 7.722 7.902 8.082 8.261 8.441\n",
            " 8.62  8.8  ]\n",
            "[23.699 24.876 26.053 27.23  28.407 29.584 30.761 31.938 33.115 34.292\n",
            " 35.469 36.646 37.823 39.    40.177 41.354 42.531 43.708 44.885 46.062\n",
            " 47.239 48.416 49.593 50.77  51.947 53.124 54.301 55.478 56.655 57.832\n",
            " 59.009 60.186 61.363 62.54  63.717 64.894 66.071 67.248 68.425 69.602\n",
            " 70.779 71.956 73.133 74.31  75.487 76.664 77.841 79.018 80.195 81.372]\n"
          ]
        }
      ]
    },
    {
      "cell_type": "code",
      "metadata": {
        "colab": {
          "base_uri": "https://localhost:8080/",
          "height": 432
        },
        "id": "5TIgMcfKWZmK",
        "outputId": "f27ae743-63af-4ecb-b605-5a0174da46ca"
      },
      "source": [
        "fig = plt.figure(figsize=(10,6))\n",
        "ax = fig.add_subplot(111)\n",
        "ax.set_xlabel('퀴즈 점수', fontsize=20)\n",
        "ax.set_ylabel(\"기말고사 점수\", fontsize=20)\n",
        "ax.plot(xs, ys, c='gray',   # x와 y셋으로 선을 그림\n",
        "        label=f'{poly_fit[1]:.2f} + {poly_fit[0]:.2f}x')\n",
        "ax.scatter(x,  y)  # x와 y 셋이 좌표를 이뤄 점을 찍음(scatter)\n",
        "ax.legend()\n",
        "\n",
        "plt.title('퀴즈와 기말고사의 상관관계', fontsize=30, fontweight='bold')\n",
        "plt.show()"
      ],
      "execution_count": 17,
      "outputs": [
        {
          "output_type": "display_data",
          "data": {
            "image/png": "[encoded data removed]",
            "text/plain": [
              "<Figure size 720x432 with 1 Axes>"
            ]
          },
          "metadata": {
            "needs_background": "light"
          }
        }
      ]
    },
    {
      "cell_type": "markdown",
      "metadata": {
        "id": "TVJgf-yyYdRG"
      },
      "source": [
        "# "
      ]
    },
    {
      "cell_type": "code",
      "metadata": {
        "id": "IFK8uNPRYaTB"
      },
      "source": [
        ""
      ],
      "execution_count": null,
      "outputs": []
    }
  ]
}
